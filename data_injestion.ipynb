{
 "cells": [
  {
   "cell_type": "markdown",
   "metadata": {},
   "source": [
    "### Data injestion"
   ]
  },
  {
   "cell_type": "code",
   "execution_count": 9,
   "metadata": {},
   "outputs": [
    {
     "name": "stdout",
     "output_type": "stream",
     "text": [
      "[Document(metadata={'source': 'speech.txt'}, page_content=\"Life is a journey full of surprises, challenges, and endless opportunities. It's not about the destination, but the experiences we gather along the way. Life teaches us to embrace both the good and the bad, for they shape who we are. It is in our moments of struggle that we find our strength, and in times of joy, we find our purpose. Each day is a gift, and every challenge is a chance to grow. So, cherish every moment, live with gratitude, and remember that the beauty of life lies in its unpredictability.\\n\\n\")]\n"
     ]
    }
   ],
   "source": [
    "### using txt\n",
    "\n",
    "from langchain_community.document_loaders import TextLoader\n",
    "\n",
    "loader =  TextLoader(\"speech.txt\")\n",
    "\n",
    "text = loader.load()\n",
    "print(text)"
   ]
  },
  {
   "cell_type": "code",
   "execution_count": 10,
   "metadata": {},
   "outputs": [],
   "source": [
    "\n",
    "import os\n",
    "\n",
    "from dotenv import load_dotenv\n",
    "\n",
    "# Load environment variables\n",
    "load_dotenv()\n",
    "\n",
    "openai_api_key = os.getenv(\"OPENAI_API_KEY\")\n"
   ]
  },
  {
   "cell_type": "code",
   "execution_count": 11,
   "metadata": {},
   "outputs": [
    {
     "data": {
      "text/plain": [
       "'\\nloader = WebBaseLoader(web_paths=(\"https://en.wikipedia.org/wiki/Python_(programming_language\",),\\n                       bs_kwargs=dict(parse_only=bs4.SoupStrainer(\\n                           class_=(\"post-title\", \"post-content\",\"post_header\")\\n                       )))\\ntext=loader.load()\\n                '"
      ]
     },
     "execution_count": 11,
     "metadata": {},
     "output_type": "execute_result"
    }
   ],
   "source": [
    "### from website \n",
    "\n",
    "\n",
    "from langchain_community .document_loaders import WebBaseLoader\n",
    "\n",
    "import bs4 # beautiful soup \n",
    "\"\"\"\n",
    "loader = WebBaseLoader(web_paths=(\"https://en.wikipedia.org/wiki/Python_(programming_language\",),\n",
    "                       bs_kwargs=dict(parse_only=bs4.SoupStrainer(\n",
    "                           class_=(\"post-title\", \"post-content\",\"post_header\")\n",
    "                       )))\n",
    "text=loader.load()\n",
    "                \"\"\"       "
   ]
  },
  {
   "cell_type": "code",
   "execution_count": 13,
   "metadata": {},
   "outputs": [],
   "source": [
    "from langchain_community .document_loaders import PyPDFLoader\n",
    "\n",
    "load=PyPDFLoader('attention.pdf')\n",
    "\n",
    "docs=loader.load()"
   ]
  },
  {
   "cell_type": "code",
   "execution_count": 14,
   "metadata": {},
   "outputs": [
    {
     "data": {
      "text/plain": [
       "[Document(metadata={'source': 'speech.txt'}, page_content=\"Life is a journey full of surprises, challenges, and endless opportunities. It's not about the destination, but the experiences we gather along the way. Life teaches us to embrace both the good and the bad, for they shape who we are. It is in our moments of struggle that we find our strength, and in times of joy, we find our purpose. Each day is a gift, and every challenge is a chance to grow. So, cherish every moment, live with gratitude, and remember that the beauty of life lies in its unpredictability.\\n\\n\")]"
      ]
     },
     "execution_count": 14,
     "metadata": {},
     "output_type": "execute_result"
    }
   ],
   "source": [
    "docs"
   ]
  },
  {
   "cell_type": "code",
   "execution_count": 15,
   "metadata": {},
   "outputs": [
    {
     "data": {
      "text/plain": [
       "[Document(metadata={'source': 'speech.txt'}, page_content=\"Life is a journey full of surprises, challenges, and endless opportunities. It's not about the destination, but the experiences we gather along the way. Life teaches us to embrace both the good and the bad, for they shape who we are. It is in our moments of struggle that we find our strength, and in times of joy, we find our purpose. Each day is a gift, and every challenge is a chance to grow. So, cherish every moment, live with gratitude, and remember that the beauty of life lies in its unpredictability.\")]"
      ]
     },
     "execution_count": 15,
     "metadata": {},
     "output_type": "execute_result"
    }
   ],
   "source": [
    "from langchain.text_splitter import RecursiveCharacterTextSplitter\n",
    "\n",
    "text_splitter = RecursiveCharacterTextSplitter(chunk_size=1000,chunk_overlap=200)\n",
    "documents=text_splitter.split_documents(docs)\n",
    "documents\n",
    "\n"
   ]
  },
  {
   "cell_type": "code",
   "execution_count": 16,
   "metadata": {},
   "outputs": [],
   "source": [
    "from langchain.embeddings import OpenAIEmbeddings\n",
    "from langchain_community.vectorstores import Chroma\n",
    "\n",
    "db=Chroma.from_documents(documents[:15],OpenAIEmbeddings())\n",
    "                         \n"
   ]
  },
  {
   "cell_type": "code",
   "execution_count": 17,
   "metadata": {},
   "outputs": [
    {
     "name": "stderr",
     "output_type": "stream",
     "text": [
      "Number of requested results 4 is greater than number of elements in index 2, updating n_results = 2\n"
     ]
    },
    {
     "data": {
      "text/plain": [
       "[Document(metadata={'source': 'speech.txt'}, page_content=\"Life is a journey full of surprises, challenges, and endless opportunities. It's not about the destination, but the experiences we gather along the way. Life teaches us to embrace both the good and the bad, for they shape who we are. It is in our moments of struggle that we find our strength, and in times of joy, we find our purpose. Each day is a gift, and every challenge is a chance to grow. So, cherish every moment, live with gratitude, and remember that the beauty of life lies in its unpredictability.\"),\n",
       " Document(metadata={'source': 'speech.txt'}, page_content=\"Life is a journey full of surprises, challenges, and endless opportunities. It's not about the destination, but the experiences we gather along the way. Life teaches us to embrace both the good and the bad, for they shape who we are. It is in our moments of struggle that we find our strength, and in times of joy, we find our purpose. Each day is a gift, and every challenge is a chance to grow. So, cherish every moment, live with gratitude, and remember that the beauty of life lies in its unpredictability.\")]"
      ]
     },
     "execution_count": 17,
     "metadata": {},
     "output_type": "execute_result"
    }
   ],
   "source": [
    "query=\"what is NS3\"\n",
    "result = db.similarity_search(query)\n",
    "result"
   ]
  },
  {
   "cell_type": "code",
   "execution_count": null,
   "metadata": {},
   "outputs": [],
   "source": []
  },
  {
   "cell_type": "code",
   "execution_count": null,
   "metadata": {},
   "outputs": [],
   "source": []
  }
 ],
 "metadata": {
  "kernelspec": {
   "display_name": "LC",
   "language": "python",
   "name": "python3"
  },
  "language_info": {
   "codemirror_mode": {
    "name": "ipython",
    "version": 3
   },
   "file_extension": ".py",
   "mimetype": "text/x-python",
   "name": "python",
   "nbconvert_exporter": "python",
   "pygments_lexer": "ipython3",
   "version": "3.10.15"
  }
 },
 "nbformat": 4,
 "nbformat_minor": 2
}
